{
 "cells": [
  {
   "cell_type": "code",
   "execution_count": 1,
   "metadata": {},
   "outputs": [],
   "source": [
    "import pandas as pd\n",
    "import numpy as np\n",
    "import seaborn as sns\n",
    "import matplotlib.pyplot as plt\n",
    "from sklearn import svm\n",
    "from sklearn.model_selection import train_test_split\n",
    "from sklearn.linear_model import LinearRegression\n",
    "\n",
    "# df = pd.read_csv('ks-projects-201612.csv')\n",
    "df2018 = pd.read_csv('ks-projects-201801.csv')"
   ]
  },
  {
   "cell_type": "code",
   "execution_count": 2,
   "metadata": {},
   "outputs": [
    {
     "name": "stdout",
     "output_type": "stream",
     "text": [
      "(378661, 10)\n"
     ]
    }
   ],
   "source": [
    "df2018.drop(['ID', 'name', 'usd_pledged_real', 'usd_goal_real', 'backers'], axis=1, inplace=True)\n",
    "print df2018.shape"
   ]
  },
  {
   "cell_type": "code",
   "execution_count": 3,
   "metadata": {},
   "outputs": [
    {
     "name": "stdout",
     "output_type": "stream",
     "text": [
      "   category  main_category  currency  goal  pledged  state  country  \\\n",
      "0         0              0         0     0        0      0        0   \n",
      "1         1              1         1     1        1      0        1   \n",
      "2         1              1         1     2        2      0        1   \n",
      "3         2              2         1     3        3      0        1   \n",
      "4         3              1         1     4        4      1        1   \n",
      "\n",
      "   usd pledged  time_elapsed  \n",
      "0            0             0  \n",
      "1            1             1  \n",
      "2            2             2  \n",
      "3            3             3  \n",
      "4            4             4  \n"
     ]
    }
   ],
   "source": [
    "label_column = 'state'\n",
    "time_column = 'time_elapsed'\n",
    "\n",
    "df2018['launched'] = pd.to_datetime(df2018['launched'])\n",
    "df2018['deadline'] = pd.to_datetime(df2018['deadline'])\n",
    "df2018[time_column] = (df2018.deadline - df2018.launched).astype('timedelta64[h]')\n",
    "# print df2018['launched'].head(10)\n",
    "# print(df2018[time_column].head(15))\n",
    "\n",
    "df2018.drop(['launched', 'deadline'], axis=1, inplace=True)\n",
    "\n",
    "df2018 = df2018.apply(lambda x: pd.factorize(x)[0])\n",
    "\n",
    "print df2018.head()"
   ]
  },
  {
   "cell_type": "code",
   "execution_count": null,
   "metadata": {},
   "outputs": [],
   "source": [
    "corr = df2018.corr()\n",
    "plt.figure(figsize=(10, 6))\n",
    "sns.heatmap(corr, cbar=None, annot=True, cmap='Blues')\n",
    "#sns.pairplot(df2018, hue=label_column)\n",
    "plt.show()"
   ]
  },
  {
   "cell_type": "code",
   "execution_count": null,
   "metadata": {},
   "outputs": [],
   "source": [
    "X = np.array(df2018.drop([label_column], axis=1))\n",
    "# y = df2018[label_column].shift(-shift_param)\n",
    "y = df2018[label_column]\n",
    "\n",
    "# X = preprocessing.scale(X)\n",
    "\n",
    "# X = [X:~shift_param+1]\n",
    "\n",
    "X_train, X_test, y_train, y_test = train_test_split(X, y, test_size=0.2, random_state=89, shuffle=True)\n",
    "\n",
    "# clf = LinearRegression()\n",
    "clf = svm.SVC()\n",
    "clf.fit(X_train, y_train)\n",
    "\n",
    "print clf.score(X_test, y_test)"
   ]
  }
 ],
 "metadata": {
  "kernelspec": {
   "display_name": "Python 2",
   "language": "python",
   "name": "python2"
  },
  "language_info": {
   "codemirror_mode": {
    "name": "ipython",
    "version": 2
   },
   "file_extension": ".py",
   "mimetype": "text/x-python",
   "name": "python",
   "nbconvert_exporter": "python",
   "pygments_lexer": "ipython2",
   "version": "2.7.12"
  }
 },
 "nbformat": 4,
 "nbformat_minor": 2
}
