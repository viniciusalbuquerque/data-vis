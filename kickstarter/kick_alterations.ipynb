{
 "cells": [
  {
   "cell_type": "code",
   "execution_count": 3,
   "metadata": {},
   "outputs": [],
   "source": [
    "import pandas as pd\n",
    "import numpy as np\n",
    "import seaborn as sns\n",
    "import matplotlib.pyplot as plt\n",
    "from sklearn import svm\n",
    "from sklearn.model_selection import train_test_split\n",
    "from sklearn.linear_model import LinearRegression\n",
    "import sklearn.linear_model as sk\n",
    "import math\n",
    "from sklearn import preprocessing\n",
    "from scipy import stats"
   ]
  },
  {
   "cell_type": "markdown",
   "metadata": {},
   "source": [
    "    Dropping features that seem irrelevant (such as ID) or that gives some kind of repeated information (such as usd_pledfed_real, usd_goal_real and category)."
   ]
  },
  {
   "cell_type": "code",
   "execution_count": 20,
   "metadata": {},
   "outputs": [],
   "source": [
    "# df = pd.read_csv('ks-projects-201612.csv')\n",
    "df2018 = pd.read_csv('ks-projects-201801.csv')"
   ]
  },
  {
   "cell_type": "code",
   "execution_count": 21,
   "metadata": {},
   "outputs": [
    {
     "data": {
      "text/plain": [
       "(378661, 8)"
      ]
     },
     "execution_count": 21,
     "metadata": {},
     "output_type": "execute_result"
    }
   ],
   "source": [
    "df2018.drop(['ID', 'name', 'pledged', 'usd_pledged_real', 'usd_goal_real', 'category', 'backers'], axis=1, inplace=True)\n",
    "df2018.shape"
   ]
  },
  {
   "cell_type": "code",
   "execution_count": 22,
   "metadata": {},
   "outputs": [
    {
     "data": {
      "text/plain": [
       "6"
      ]
     },
     "execution_count": 22,
     "metadata": {},
     "output_type": "execute_result"
    }
   ],
   "source": [
    "df2018.state.nunique()"
   ]
  },
  {
   "cell_type": "code",
   "execution_count": 23,
   "metadata": {},
   "outputs": [
    {
     "data": {
      "text/plain": [
       "failed        197719\n",
       "successful    133956\n",
       "canceled       38779\n",
       "undefined       3562\n",
       "live            2799\n",
       "suspended       1846\n",
       "Name: state, dtype: int64"
      ]
     },
     "execution_count": 23,
     "metadata": {},
     "output_type": "execute_result"
    }
   ],
   "source": [
    "df2018.state.value_counts()"
   ]
  },
  {
   "cell_type": "code",
   "execution_count": 24,
   "metadata": {},
   "outputs": [
    {
     "data": {
      "text/plain": [
       "failed        197719\n",
       "successful    133956\n",
       "canceled       38779\n",
       "suspended       1846\n",
       "Name: state, dtype: int64"
      ]
     },
     "execution_count": 24,
     "metadata": {},
     "output_type": "execute_result"
    }
   ],
   "source": [
    "# df2018[df2018.state != 'failed' and df2018.state != 'successful' and df2018.state != 'canceled' and df2018.state != 'suspended']\n",
    "flt_list = ['failed', 'successful', 'canceled', 'suspended']\n",
    "df2018 = df2018[df2018.state.isin(flt_list)]\n",
    "df2018.state.value_counts()"
   ]
  },
  {
   "cell_type": "code",
   "execution_count": 25,
   "metadata": {},
   "outputs": [],
   "source": [
    "label_column = 'state'\n",
    "time_column = 'time_elapsed'\n",
    "\n",
    "df2018['launched'] = pd.to_datetime(df2018['launched'])\n",
    "df2018['deadline'] = pd.to_datetime(df2018['deadline'])\n",
    "df2018[time_column] = (df2018.deadline - df2018.launched).astype('timedelta64[h]')\n",
    "\n",
    "df2018.drop(['launched', 'deadline'], axis=1, inplace=True)"
   ]
  },
  {
   "cell_type": "code",
   "execution_count": 26,
   "metadata": {},
   "outputs": [],
   "source": [
    "def showCorr(df):\n",
    "    corr = df.corr()\n",
    "    plt.figure(figsize=(10, 6))\n",
    "    sns.heatmap(corr, cbar=None, annot=True, cmap='Blues')\n",
    "    plt.show()"
   ]
  },
  {
   "cell_type": "code",
   "execution_count": 27,
   "metadata": {},
   "outputs": [
    {
     "data": {
      "image/png": "[encoded data removed]",
      "text/plain": [
       "<matplotlib.figure.Figure at 0x117032fd0>"
      ]
     },
     "metadata": {},
     "output_type": "display_data"
    }
   ],
   "source": [
    "showCorr(df2018)"
   ]
  },
  {
   "cell_type": "code",
   "execution_count": 28,
   "metadata": {},
   "outputs": [],
   "source": [
    "columns = ['main_category','currency', 'country']"
   ]
  },
  {
   "cell_type": "code",
   "execution_count": 29,
   "metadata": {},
   "outputs": [],
   "source": [
    "# df2018_copy = df2018\n",
    "# df2018_copy[columns] = df2018_copy[columns].apply(lambda x: pd.factorize(x)[0])\n",
    "# showCorr(df2018_copy)"
   ]
  },
  {
   "cell_type": "code",
   "execution_count": 30,
   "metadata": {},
   "outputs": [],
   "source": [
    "def getDummies(df):\n",
    "    return pd.get_dummies(df)"
   ]
  },
  {
   "cell_type": "code",
   "execution_count": 31,
   "metadata": {},
   "outputs": [
    {
     "data": {
      "text/html": [
       "<div>\n",
       "<style>\n",
       "    .dataframe thead tr:only-child th {\n",
       "        text-align: right;\n",
       "    }\n",
       "\n",
       "    .dataframe thead th {\n",
       "        text-align: left;\n",
       "    }\n",
       "\n",
       "    .dataframe tbody tr th {\n",
       "        vertical-align: top;\n",
       "    }\n",
       "</style>\n",
       "<table border=\"1\" class=\"dataframe\">\n",
       "  <thead>\n",
       "    <tr style=\"text-align: right;\">\n",
       "      <th></th>\n",
       "      <th>main_category_Art</th>\n",
       "      <th>main_category_Comics</th>\n",
       "      <th>main_category_Crafts</th>\n",
       "      <th>main_category_Dance</th>\n",
       "      <th>main_category_Design</th>\n",
       "      <th>main_category_Fashion</th>\n",
       "      <th>main_category_Film &amp; Video</th>\n",
       "      <th>main_category_Food</th>\n",
       "      <th>main_category_Games</th>\n",
       "      <th>main_category_Journalism</th>\n",
       "      <th>...</th>\n",
       "      <th>country_JP</th>\n",
       "      <th>country_LU</th>\n",
       "      <th>country_MX</th>\n",
       "      <th>country_N,0\"</th>\n",
       "      <th>country_NL</th>\n",
       "      <th>country_NO</th>\n",
       "      <th>country_NZ</th>\n",
       "      <th>country_SE</th>\n",
       "      <th>country_SG</th>\n",
       "      <th>country_US</th>\n",
       "    </tr>\n",
       "  </thead>\n",
       "  <tbody>\n",
       "    <tr>\n",
       "      <th>0</th>\n",
       "      <td>0</td>\n",
       "      <td>0</td>\n",
       "      <td>0</td>\n",
       "      <td>0</td>\n",
       "      <td>0</td>\n",
       "      <td>0</td>\n",
       "      <td>0</td>\n",
       "      <td>0</td>\n",
       "      <td>0</td>\n",
       "      <td>0</td>\n",
       "      <td>...</td>\n",
       "      <td>0</td>\n",
       "      <td>0</td>\n",
       "      <td>0</td>\n",
       "      <td>0</td>\n",
       "      <td>0</td>\n",
       "      <td>0</td>\n",
       "      <td>0</td>\n",
       "      <td>0</td>\n",
       "      <td>0</td>\n",
       "      <td>0</td>\n",
       "    </tr>\n",
       "    <tr>\n",
       "      <th>1</th>\n",
       "      <td>0</td>\n",
       "      <td>0</td>\n",
       "      <td>0</td>\n",
       "      <td>0</td>\n",
       "      <td>0</td>\n",
       "      <td>0</td>\n",
       "      <td>1</td>\n",
       "      <td>0</td>\n",
       "      <td>0</td>\n",
       "      <td>0</td>\n",
       "      <td>...</td>\n",
       "      <td>0</td>\n",
       "      <td>0</td>\n",
       "      <td>0</td>\n",
       "      <td>0</td>\n",
       "      <td>0</td>\n",
       "      <td>0</td>\n",
       "      <td>0</td>\n",
       "      <td>0</td>\n",
       "      <td>0</td>\n",
       "      <td>1</td>\n",
       "    </tr>\n",
       "    <tr>\n",
       "      <th>2</th>\n",
       "      <td>0</td>\n",
       "      <td>0</td>\n",
       "      <td>0</td>\n",
       "      <td>0</td>\n",
       "      <td>0</td>\n",
       "      <td>0</td>\n",
       "      <td>1</td>\n",
       "      <td>0</td>\n",
       "      <td>0</td>\n",
       "      <td>0</td>\n",
       "      <td>...</td>\n",
       "      <td>0</td>\n",
       "      <td>0</td>\n",
       "      <td>0</td>\n",
       "      <td>0</td>\n",
       "      <td>0</td>\n",
       "      <td>0</td>\n",
       "      <td>0</td>\n",
       "      <td>0</td>\n",
       "      <td>0</td>\n",
       "      <td>1</td>\n",
       "    </tr>\n",
       "    <tr>\n",
       "      <th>3</th>\n",
       "      <td>0</td>\n",
       "      <td>0</td>\n",
       "      <td>0</td>\n",
       "      <td>0</td>\n",
       "      <td>0</td>\n",
       "      <td>0</td>\n",
       "      <td>0</td>\n",
       "      <td>0</td>\n",
       "      <td>0</td>\n",
       "      <td>0</td>\n",
       "      <td>...</td>\n",
       "      <td>0</td>\n",
       "      <td>0</td>\n",
       "      <td>0</td>\n",
       "      <td>0</td>\n",
       "      <td>0</td>\n",
       "      <td>0</td>\n",
       "      <td>0</td>\n",
       "      <td>0</td>\n",
       "      <td>0</td>\n",
       "      <td>1</td>\n",
       "    </tr>\n",
       "    <tr>\n",
       "      <th>4</th>\n",
       "      <td>0</td>\n",
       "      <td>0</td>\n",
       "      <td>0</td>\n",
       "      <td>0</td>\n",
       "      <td>0</td>\n",
       "      <td>0</td>\n",
       "      <td>1</td>\n",
       "      <td>0</td>\n",
       "      <td>0</td>\n",
       "      <td>0</td>\n",
       "      <td>...</td>\n",
       "      <td>0</td>\n",
       "      <td>0</td>\n",
       "      <td>0</td>\n",
       "      <td>0</td>\n",
       "      <td>0</td>\n",
       "      <td>0</td>\n",
       "      <td>0</td>\n",
       "      <td>0</td>\n",
       "      <td>0</td>\n",
       "      <td>1</td>\n",
       "    </tr>\n",
       "  </tbody>\n",
       "</table>\n",
       "<p>5 rows × 52 columns</p>\n",
       "</div>"
      ],
      "text/plain": [
       "   main_category_Art  main_category_Comics  main_category_Crafts  \\\n",
       "0                  0                     0                     0   \n",
       "1                  0                     0                     0   \n",
       "2                  0                     0                     0   \n",
       "3                  0                     0                     0   \n",
       "4                  0                     0                     0   \n",
       "\n",
       "   main_category_Dance  main_category_Design  main_category_Fashion  \\\n",
       "0                    0                     0                      0   \n",
       "1                    0                     0                      0   \n",
       "2                    0                     0                      0   \n",
       "3                    0                     0                      0   \n",
       "4                    0                     0                      0   \n",
       "\n",
       "   main_category_Film & Video  main_category_Food  main_category_Games  \\\n",
       "0                           0                   0                    0   \n",
       "1                           1                   0                    0   \n",
       "2                           1                   0                    0   \n",
       "3                           0                   0                    0   \n",
       "4                           1                   0                    0   \n",
       "\n",
       "   main_category_Journalism     ...      country_JP  country_LU  country_MX  \\\n",
       "0                         0     ...               0           0           0   \n",
       "1                         0     ...               0           0           0   \n",
       "2                         0     ...               0           0           0   \n",
       "3                         0     ...               0           0           0   \n",
       "4                         0     ...               0           0           0   \n",
       "\n",
       "   country_N,0\"  country_NL  country_NO  country_NZ  country_SE  country_SG  \\\n",
       "0             0           0           0           0           0           0   \n",
       "1             0           0           0           0           0           0   \n",
       "2             0           0           0           0           0           0   \n",
       "3             0           0           0           0           0           0   \n",
       "4             0           0           0           0           0           0   \n",
       "\n",
       "   country_US  \n",
       "0           0  \n",
       "1           1  \n",
       "2           1  \n",
       "3           1  \n",
       "4           1  \n",
       "\n",
       "[5 rows x 52 columns]"
      ]
     },
     "execution_count": 31,
     "metadata": {},
     "output_type": "execute_result"
    }
   ],
   "source": [
    "dummies = getDummies(df2018[columns])\n",
    "dummies.head()"
   ]
  },
  {
   "cell_type": "code",
   "execution_count": 32,
   "metadata": {},
   "outputs": [],
   "source": [
    "df2018.drop(columns, axis=1, inplace=True)"
   ]
  },
  {
   "cell_type": "code",
   "execution_count": 33,
   "metadata": {},
   "outputs": [
    {
     "data": {
      "text/plain": [
       "(372300, 56)"
      ]
     },
     "execution_count": 33,
     "metadata": {},
     "output_type": "execute_result"
    }
   ],
   "source": [
    "df2018 = pd.concat([df2018,dummies], axis=1)\n",
    "df2018.shape"
   ]
  },
  {
   "cell_type": "code",
   "execution_count": 34,
   "metadata": {},
   "outputs": [
    {
     "data": {
      "text/html": [
       "<div>\n",
       "<style>\n",
       "    .dataframe thead tr:only-child th {\n",
       "        text-align: right;\n",
       "    }\n",
       "\n",
       "    .dataframe thead th {\n",
       "        text-align: left;\n",
       "    }\n",
       "\n",
       "    .dataframe tbody tr th {\n",
       "        vertical-align: top;\n",
       "    }\n",
       "</style>\n",
       "<table border=\"1\" class=\"dataframe\">\n",
       "  <thead>\n",
       "    <tr style=\"text-align: right;\">\n",
       "      <th></th>\n",
       "      <th>goal</th>\n",
       "      <th>state</th>\n",
       "      <th>usd pledged</th>\n",
       "      <th>time_elapsed</th>\n",
       "      <th>main_category_Art</th>\n",
       "      <th>main_category_Comics</th>\n",
       "      <th>main_category_Crafts</th>\n",
       "      <th>main_category_Dance</th>\n",
       "      <th>main_category_Design</th>\n",
       "      <th>main_category_Fashion</th>\n",
       "      <th>...</th>\n",
       "      <th>country_JP</th>\n",
       "      <th>country_LU</th>\n",
       "      <th>country_MX</th>\n",
       "      <th>country_N,0\"</th>\n",
       "      <th>country_NL</th>\n",
       "      <th>country_NO</th>\n",
       "      <th>country_NZ</th>\n",
       "      <th>country_SE</th>\n",
       "      <th>country_SG</th>\n",
       "      <th>country_US</th>\n",
       "    </tr>\n",
       "  </thead>\n",
       "  <tbody>\n",
       "    <tr>\n",
       "      <th>0</th>\n",
       "      <td>1000.0</td>\n",
       "      <td>failed</td>\n",
       "      <td>0.0</td>\n",
       "      <td>1403.0</td>\n",
       "      <td>0</td>\n",
       "      <td>0</td>\n",
       "      <td>0</td>\n",
       "      <td>0</td>\n",
       "      <td>0</td>\n",
       "      <td>0</td>\n",
       "      <td>...</td>\n",
       "      <td>0</td>\n",
       "      <td>0</td>\n",
       "      <td>0</td>\n",
       "      <td>0</td>\n",
       "      <td>0</td>\n",
       "      <td>0</td>\n",
       "      <td>0</td>\n",
       "      <td>0</td>\n",
       "      <td>0</td>\n",
       "      <td>0</td>\n",
       "    </tr>\n",
       "    <tr>\n",
       "      <th>1</th>\n",
       "      <td>30000.0</td>\n",
       "      <td>failed</td>\n",
       "      <td>100.0</td>\n",
       "      <td>1435.0</td>\n",
       "      <td>0</td>\n",
       "      <td>0</td>\n",
       "      <td>0</td>\n",
       "      <td>0</td>\n",
       "      <td>0</td>\n",
       "      <td>0</td>\n",
       "      <td>...</td>\n",
       "      <td>0</td>\n",
       "      <td>0</td>\n",
       "      <td>0</td>\n",
       "      <td>0</td>\n",
       "      <td>0</td>\n",
       "      <td>0</td>\n",
       "      <td>0</td>\n",
       "      <td>0</td>\n",
       "      <td>0</td>\n",
       "      <td>1</td>\n",
       "    </tr>\n",
       "    <tr>\n",
       "      <th>2</th>\n",
       "      <td>45000.0</td>\n",
       "      <td>failed</td>\n",
       "      <td>220.0</td>\n",
       "      <td>1079.0</td>\n",
       "      <td>0</td>\n",
       "      <td>0</td>\n",
       "      <td>0</td>\n",
       "      <td>0</td>\n",
       "      <td>0</td>\n",
       "      <td>0</td>\n",
       "      <td>...</td>\n",
       "      <td>0</td>\n",
       "      <td>0</td>\n",
       "      <td>0</td>\n",
       "      <td>0</td>\n",
       "      <td>0</td>\n",
       "      <td>0</td>\n",
       "      <td>0</td>\n",
       "      <td>0</td>\n",
       "      <td>0</td>\n",
       "      <td>1</td>\n",
       "    </tr>\n",
       "    <tr>\n",
       "      <th>3</th>\n",
       "      <td>5000.0</td>\n",
       "      <td>failed</td>\n",
       "      <td>1.0</td>\n",
       "      <td>716.0</td>\n",
       "      <td>0</td>\n",
       "      <td>0</td>\n",
       "      <td>0</td>\n",
       "      <td>0</td>\n",
       "      <td>0</td>\n",
       "      <td>0</td>\n",
       "      <td>...</td>\n",
       "      <td>0</td>\n",
       "      <td>0</td>\n",
       "      <td>0</td>\n",
       "      <td>0</td>\n",
       "      <td>0</td>\n",
       "      <td>0</td>\n",
       "      <td>0</td>\n",
       "      <td>0</td>\n",
       "      <td>0</td>\n",
       "      <td>1</td>\n",
       "    </tr>\n",
       "    <tr>\n",
       "      <th>4</th>\n",
       "      <td>19500.0</td>\n",
       "      <td>canceled</td>\n",
       "      <td>1283.0</td>\n",
       "      <td>1335.0</td>\n",
       "      <td>0</td>\n",
       "      <td>0</td>\n",
       "      <td>0</td>\n",
       "      <td>0</td>\n",
       "      <td>0</td>\n",
       "      <td>0</td>\n",
       "      <td>...</td>\n",
       "      <td>0</td>\n",
       "      <td>0</td>\n",
       "      <td>0</td>\n",
       "      <td>0</td>\n",
       "      <td>0</td>\n",
       "      <td>0</td>\n",
       "      <td>0</td>\n",
       "      <td>0</td>\n",
       "      <td>0</td>\n",
       "      <td>1</td>\n",
       "    </tr>\n",
       "  </tbody>\n",
       "</table>\n",
       "<p>5 rows × 56 columns</p>\n",
       "</div>"
      ],
      "text/plain": [
       "      goal     state  usd pledged  time_elapsed  main_category_Art  \\\n",
       "0   1000.0    failed          0.0        1403.0                  0   \n",
       "1  30000.0    failed        100.0        1435.0                  0   \n",
       "2  45000.0    failed        220.0        1079.0                  0   \n",
       "3   5000.0    failed          1.0         716.0                  0   \n",
       "4  19500.0  canceled       1283.0        1335.0                  0   \n",
       "\n",
       "   main_category_Comics  main_category_Crafts  main_category_Dance  \\\n",
       "0                     0                     0                    0   \n",
       "1                     0                     0                    0   \n",
       "2                     0                     0                    0   \n",
       "3                     0                     0                    0   \n",
       "4                     0                     0                    0   \n",
       "\n",
       "   main_category_Design  main_category_Fashion     ...      country_JP  \\\n",
       "0                     0                      0     ...               0   \n",
       "1                     0                      0     ...               0   \n",
       "2                     0                      0     ...               0   \n",
       "3                     0                      0     ...               0   \n",
       "4                     0                      0     ...               0   \n",
       "\n",
       "   country_LU  country_MX  country_N,0\"  country_NL  country_NO  country_NZ  \\\n",
       "0           0           0             0           0           0           0   \n",
       "1           0           0             0           0           0           0   \n",
       "2           0           0             0           0           0           0   \n",
       "3           0           0             0           0           0           0   \n",
       "4           0           0             0           0           0           0   \n",
       "\n",
       "   country_SE  country_SG  country_US  \n",
       "0           0           0           0  \n",
       "1           0           0           1  \n",
       "2           0           0           1  \n",
       "3           0           0           1  \n",
       "4           0           0           1  \n",
       "\n",
       "[5 rows x 56 columns]"
      ]
     },
     "execution_count": 34,
     "metadata": {},
     "output_type": "execute_result"
    }
   ],
   "source": [
    "df2018_copy = df2018\n",
    "df2018_copy.head()"
   ]
  },
  {
   "cell_type": "code",
   "execution_count": 35,
   "metadata": {},
   "outputs": [],
   "source": [
    "df2018.dropna(inplace=True)"
   ]
  },
  {
   "cell_type": "code",
   "execution_count": 36,
   "metadata": {
    "scrolled": true
   },
   "outputs": [],
   "source": [
    "# df2018[label_column] = df2018[[label_column]].apply(lambda x: pd.factorize(x)[0])\n",
    "y_target = df2018[label_column]\n",
    "df2018 = df2018.drop([label_column], axis=1)"
   ]
  },
  {
   "cell_type": "code",
   "execution_count": 37,
   "metadata": {},
   "outputs": [
    {
     "data": {
      "text/html": [
       "<div>\n",
       "<style>\n",
       "    .dataframe thead tr:only-child th {\n",
       "        text-align: right;\n",
       "    }\n",
       "\n",
       "    .dataframe thead th {\n",
       "        text-align: left;\n",
       "    }\n",
       "\n",
       "    .dataframe tbody tr th {\n",
       "        vertical-align: top;\n",
       "    }\n",
       "</style>\n",
       "<table border=\"1\" class=\"dataframe\">\n",
       "  <thead>\n",
       "    <tr style=\"text-align: right;\">\n",
       "      <th></th>\n",
       "      <th>goal</th>\n",
       "      <th>usd pledged</th>\n",
       "      <th>time_elapsed</th>\n",
       "      <th>main_category_Art</th>\n",
       "      <th>main_category_Comics</th>\n",
       "      <th>main_category_Crafts</th>\n",
       "      <th>main_category_Dance</th>\n",
       "      <th>main_category_Design</th>\n",
       "      <th>main_category_Fashion</th>\n",
       "      <th>main_category_Film &amp; Video</th>\n",
       "      <th>...</th>\n",
       "      <th>country_JP</th>\n",
       "      <th>country_LU</th>\n",
       "      <th>country_MX</th>\n",
       "      <th>country_N,0\"</th>\n",
       "      <th>country_NL</th>\n",
       "      <th>country_NO</th>\n",
       "      <th>country_NZ</th>\n",
       "      <th>country_SE</th>\n",
       "      <th>country_SG</th>\n",
       "      <th>country_US</th>\n",
       "    </tr>\n",
       "  </thead>\n",
       "  <tbody>\n",
       "    <tr>\n",
       "      <th>0</th>\n",
       "      <td>1000.0</td>\n",
       "      <td>0.0</td>\n",
       "      <td>1403.0</td>\n",
       "      <td>0</td>\n",
       "      <td>0</td>\n",
       "      <td>0</td>\n",
       "      <td>0</td>\n",
       "      <td>0</td>\n",
       "      <td>0</td>\n",
       "      <td>0</td>\n",
       "      <td>...</td>\n",
       "      <td>0</td>\n",
       "      <td>0</td>\n",
       "      <td>0</td>\n",
       "      <td>0</td>\n",
       "      <td>0</td>\n",
       "      <td>0</td>\n",
       "      <td>0</td>\n",
       "      <td>0</td>\n",
       "      <td>0</td>\n",
       "      <td>0</td>\n",
       "    </tr>\n",
       "    <tr>\n",
       "      <th>1</th>\n",
       "      <td>30000.0</td>\n",
       "      <td>100.0</td>\n",
       "      <td>1435.0</td>\n",
       "      <td>0</td>\n",
       "      <td>0</td>\n",
       "      <td>0</td>\n",
       "      <td>0</td>\n",
       "      <td>0</td>\n",
       "      <td>0</td>\n",
       "      <td>1</td>\n",
       "      <td>...</td>\n",
       "      <td>0</td>\n",
       "      <td>0</td>\n",
       "      <td>0</td>\n",
       "      <td>0</td>\n",
       "      <td>0</td>\n",
       "      <td>0</td>\n",
       "      <td>0</td>\n",
       "      <td>0</td>\n",
       "      <td>0</td>\n",
       "      <td>1</td>\n",
       "    </tr>\n",
       "    <tr>\n",
       "      <th>2</th>\n",
       "      <td>45000.0</td>\n",
       "      <td>220.0</td>\n",
       "      <td>1079.0</td>\n",
       "      <td>0</td>\n",
       "      <td>0</td>\n",
       "      <td>0</td>\n",
       "      <td>0</td>\n",
       "      <td>0</td>\n",
       "      <td>0</td>\n",
       "      <td>1</td>\n",
       "      <td>...</td>\n",
       "      <td>0</td>\n",
       "      <td>0</td>\n",
       "      <td>0</td>\n",
       "      <td>0</td>\n",
       "      <td>0</td>\n",
       "      <td>0</td>\n",
       "      <td>0</td>\n",
       "      <td>0</td>\n",
       "      <td>0</td>\n",
       "      <td>1</td>\n",
       "    </tr>\n",
       "    <tr>\n",
       "      <th>3</th>\n",
       "      <td>5000.0</td>\n",
       "      <td>1.0</td>\n",
       "      <td>716.0</td>\n",
       "      <td>0</td>\n",
       "      <td>0</td>\n",
       "      <td>0</td>\n",
       "      <td>0</td>\n",
       "      <td>0</td>\n",
       "      <td>0</td>\n",
       "      <td>0</td>\n",
       "      <td>...</td>\n",
       "      <td>0</td>\n",
       "      <td>0</td>\n",
       "      <td>0</td>\n",
       "      <td>0</td>\n",
       "      <td>0</td>\n",
       "      <td>0</td>\n",
       "      <td>0</td>\n",
       "      <td>0</td>\n",
       "      <td>0</td>\n",
       "      <td>1</td>\n",
       "    </tr>\n",
       "    <tr>\n",
       "      <th>4</th>\n",
       "      <td>19500.0</td>\n",
       "      <td>1283.0</td>\n",
       "      <td>1335.0</td>\n",
       "      <td>0</td>\n",
       "      <td>0</td>\n",
       "      <td>0</td>\n",
       "      <td>0</td>\n",
       "      <td>0</td>\n",
       "      <td>0</td>\n",
       "      <td>1</td>\n",
       "      <td>...</td>\n",
       "      <td>0</td>\n",
       "      <td>0</td>\n",
       "      <td>0</td>\n",
       "      <td>0</td>\n",
       "      <td>0</td>\n",
       "      <td>0</td>\n",
       "      <td>0</td>\n",
       "      <td>0</td>\n",
       "      <td>0</td>\n",
       "      <td>1</td>\n",
       "    </tr>\n",
       "  </tbody>\n",
       "</table>\n",
       "<p>5 rows × 55 columns</p>\n",
       "</div>"
      ],
      "text/plain": [
       "      goal  usd pledged  time_elapsed  main_category_Art  \\\n",
       "0   1000.0          0.0        1403.0                  0   \n",
       "1  30000.0        100.0        1435.0                  0   \n",
       "2  45000.0        220.0        1079.0                  0   \n",
       "3   5000.0          1.0         716.0                  0   \n",
       "4  19500.0       1283.0        1335.0                  0   \n",
       "\n",
       "   main_category_Comics  main_category_Crafts  main_category_Dance  \\\n",
       "0                     0                     0                    0   \n",
       "1                     0                     0                    0   \n",
       "2                     0                     0                    0   \n",
       "3                     0                     0                    0   \n",
       "4                     0                     0                    0   \n",
       "\n",
       "   main_category_Design  main_category_Fashion  main_category_Film & Video  \\\n",
       "0                     0                      0                           0   \n",
       "1                     0                      0                           1   \n",
       "2                     0                      0                           1   \n",
       "3                     0                      0                           0   \n",
       "4                     0                      0                           1   \n",
       "\n",
       "      ...      country_JP  country_LU  country_MX  country_N,0\"  country_NL  \\\n",
       "0     ...               0           0           0             0           0   \n",
       "1     ...               0           0           0             0           0   \n",
       "2     ...               0           0           0             0           0   \n",
       "3     ...               0           0           0             0           0   \n",
       "4     ...               0           0           0             0           0   \n",
       "\n",
       "   country_NO  country_NZ  country_SE  country_SG  country_US  \n",
       "0           0           0           0           0           0  \n",
       "1           0           0           0           0           1  \n",
       "2           0           0           0           0           1  \n",
       "3           0           0           0           0           1  \n",
       "4           0           0           0           0           1  \n",
       "\n",
       "[5 rows x 55 columns]"
      ]
     },
     "execution_count": 37,
     "metadata": {},
     "output_type": "execute_result"
    }
   ],
   "source": [
    "df2018.head()"
   ]
  },
  {
   "cell_type": "code",
   "execution_count": 38,
   "metadata": {},
   "outputs": [],
   "source": [
    "def normalizeDF(df):\n",
    "    x = df.values #returns a numpy array\n",
    "    min_max_scaler = preprocessing.MinMaxScaler()\n",
    "    x_scaled = min_max_scaler.fit_transform(x)\n",
    "    df = pd.DataFrame(x_scaled, columns=df.columns)\n",
    "    return df"
   ]
  },
  {
   "cell_type": "code",
   "execution_count": 39,
   "metadata": {},
   "outputs": [
    {
     "data": {
      "text/html": [
       "<div>\n",
       "<style>\n",
       "    .dataframe thead tr:only-child th {\n",
       "        text-align: right;\n",
       "    }\n",
       "\n",
       "    .dataframe thead th {\n",
       "        text-align: left;\n",
       "    }\n",
       "\n",
       "    .dataframe tbody tr th {\n",
       "        vertical-align: top;\n",
       "    }\n",
       "</style>\n",
       "<table border=\"1\" class=\"dataframe\">\n",
       "  <thead>\n",
       "    <tr style=\"text-align: right;\">\n",
       "      <th></th>\n",
       "      <th>goal</th>\n",
       "      <th>usd pledged</th>\n",
       "      <th>time_elapsed</th>\n",
       "      <th>main_category_Art</th>\n",
       "      <th>main_category_Comics</th>\n",
       "      <th>main_category_Crafts</th>\n",
       "      <th>main_category_Dance</th>\n",
       "      <th>main_category_Design</th>\n",
       "      <th>main_category_Fashion</th>\n",
       "      <th>main_category_Film &amp; Video</th>\n",
       "      <th>...</th>\n",
       "      <th>country_JP</th>\n",
       "      <th>country_LU</th>\n",
       "      <th>country_MX</th>\n",
       "      <th>country_N,0\"</th>\n",
       "      <th>country_NL</th>\n",
       "      <th>country_NO</th>\n",
       "      <th>country_NZ</th>\n",
       "      <th>country_SE</th>\n",
       "      <th>country_SG</th>\n",
       "      <th>country_US</th>\n",
       "    </tr>\n",
       "  </thead>\n",
       "  <tbody>\n",
       "    <tr>\n",
       "      <th>0</th>\n",
       "      <td>0.000010</td>\n",
       "      <td>0.000000e+00</td>\n",
       "      <td>0.003492</td>\n",
       "      <td>0.0</td>\n",
       "      <td>0.0</td>\n",
       "      <td>0.0</td>\n",
       "      <td>0.0</td>\n",
       "      <td>0.0</td>\n",
       "      <td>0.0</td>\n",
       "      <td>0.0</td>\n",
       "      <td>...</td>\n",
       "      <td>0.0</td>\n",
       "      <td>0.0</td>\n",
       "      <td>0.0</td>\n",
       "      <td>0.0</td>\n",
       "      <td>0.0</td>\n",
       "      <td>0.0</td>\n",
       "      <td>0.0</td>\n",
       "      <td>0.0</td>\n",
       "      <td>0.0</td>\n",
       "      <td>0.0</td>\n",
       "    </tr>\n",
       "    <tr>\n",
       "      <th>1</th>\n",
       "      <td>0.000300</td>\n",
       "      <td>4.916666e-06</td>\n",
       "      <td>0.003572</td>\n",
       "      <td>0.0</td>\n",
       "      <td>0.0</td>\n",
       "      <td>0.0</td>\n",
       "      <td>0.0</td>\n",
       "      <td>0.0</td>\n",
       "      <td>0.0</td>\n",
       "      <td>1.0</td>\n",
       "      <td>...</td>\n",
       "      <td>0.0</td>\n",
       "      <td>0.0</td>\n",
       "      <td>0.0</td>\n",
       "      <td>0.0</td>\n",
       "      <td>0.0</td>\n",
       "      <td>0.0</td>\n",
       "      <td>0.0</td>\n",
       "      <td>0.0</td>\n",
       "      <td>0.0</td>\n",
       "      <td>1.0</td>\n",
       "    </tr>\n",
       "    <tr>\n",
       "      <th>2</th>\n",
       "      <td>0.000450</td>\n",
       "      <td>1.081666e-05</td>\n",
       "      <td>0.002686</td>\n",
       "      <td>0.0</td>\n",
       "      <td>0.0</td>\n",
       "      <td>0.0</td>\n",
       "      <td>0.0</td>\n",
       "      <td>0.0</td>\n",
       "      <td>0.0</td>\n",
       "      <td>1.0</td>\n",
       "      <td>...</td>\n",
       "      <td>0.0</td>\n",
       "      <td>0.0</td>\n",
       "      <td>0.0</td>\n",
       "      <td>0.0</td>\n",
       "      <td>0.0</td>\n",
       "      <td>0.0</td>\n",
       "      <td>0.0</td>\n",
       "      <td>0.0</td>\n",
       "      <td>0.0</td>\n",
       "      <td>1.0</td>\n",
       "    </tr>\n",
       "    <tr>\n",
       "      <th>3</th>\n",
       "      <td>0.000050</td>\n",
       "      <td>4.916666e-08</td>\n",
       "      <td>0.001782</td>\n",
       "      <td>0.0</td>\n",
       "      <td>0.0</td>\n",
       "      <td>0.0</td>\n",
       "      <td>0.0</td>\n",
       "      <td>0.0</td>\n",
       "      <td>0.0</td>\n",
       "      <td>0.0</td>\n",
       "      <td>...</td>\n",
       "      <td>0.0</td>\n",
       "      <td>0.0</td>\n",
       "      <td>0.0</td>\n",
       "      <td>0.0</td>\n",
       "      <td>0.0</td>\n",
       "      <td>0.0</td>\n",
       "      <td>0.0</td>\n",
       "      <td>0.0</td>\n",
       "      <td>0.0</td>\n",
       "      <td>1.0</td>\n",
       "    </tr>\n",
       "    <tr>\n",
       "      <th>4</th>\n",
       "      <td>0.000195</td>\n",
       "      <td>6.308082e-05</td>\n",
       "      <td>0.003323</td>\n",
       "      <td>0.0</td>\n",
       "      <td>0.0</td>\n",
       "      <td>0.0</td>\n",
       "      <td>0.0</td>\n",
       "      <td>0.0</td>\n",
       "      <td>0.0</td>\n",
       "      <td>1.0</td>\n",
       "      <td>...</td>\n",
       "      <td>0.0</td>\n",
       "      <td>0.0</td>\n",
       "      <td>0.0</td>\n",
       "      <td>0.0</td>\n",
       "      <td>0.0</td>\n",
       "      <td>0.0</td>\n",
       "      <td>0.0</td>\n",
       "      <td>0.0</td>\n",
       "      <td>0.0</td>\n",
       "      <td>1.0</td>\n",
       "    </tr>\n",
       "  </tbody>\n",
       "</table>\n",
       "<p>5 rows × 55 columns</p>\n",
       "</div>"
      ],
      "text/plain": [
       "       goal   usd pledged  time_elapsed  main_category_Art  \\\n",
       "0  0.000010  0.000000e+00      0.003492                0.0   \n",
       "1  0.000300  4.916666e-06      0.003572                0.0   \n",
       "2  0.000450  1.081666e-05      0.002686                0.0   \n",
       "3  0.000050  4.916666e-08      0.001782                0.0   \n",
       "4  0.000195  6.308082e-05      0.003323                0.0   \n",
       "\n",
       "   main_category_Comics  main_category_Crafts  main_category_Dance  \\\n",
       "0                   0.0                   0.0                  0.0   \n",
       "1                   0.0                   0.0                  0.0   \n",
       "2                   0.0                   0.0                  0.0   \n",
       "3                   0.0                   0.0                  0.0   \n",
       "4                   0.0                   0.0                  0.0   \n",
       "\n",
       "   main_category_Design  main_category_Fashion  main_category_Film & Video  \\\n",
       "0                   0.0                    0.0                         0.0   \n",
       "1                   0.0                    0.0                         1.0   \n",
       "2                   0.0                    0.0                         1.0   \n",
       "3                   0.0                    0.0                         0.0   \n",
       "4                   0.0                    0.0                         1.0   \n",
       "\n",
       "      ...      country_JP  country_LU  country_MX  country_N,0\"  country_NL  \\\n",
       "0     ...             0.0         0.0         0.0           0.0         0.0   \n",
       "1     ...             0.0         0.0         0.0           0.0         0.0   \n",
       "2     ...             0.0         0.0         0.0           0.0         0.0   \n",
       "3     ...             0.0         0.0         0.0           0.0         0.0   \n",
       "4     ...             0.0         0.0         0.0           0.0         0.0   \n",
       "\n",
       "   country_NO  country_NZ  country_SE  country_SG  country_US  \n",
       "0         0.0         0.0         0.0         0.0         0.0  \n",
       "1         0.0         0.0         0.0         0.0         1.0  \n",
       "2         0.0         0.0         0.0         0.0         1.0  \n",
       "3         0.0         0.0         0.0         0.0         1.0  \n",
       "4         0.0         0.0         0.0         0.0         1.0  \n",
       "\n",
       "[5 rows x 55 columns]"
      ]
     },
     "execution_count": 39,
     "metadata": {},
     "output_type": "execute_result"
    }
   ],
   "source": [
    "df2018_norm = normalizeDF(df2018)\n",
    "df2018_norm.head()"
   ]
  },
  {
   "cell_type": "code",
   "execution_count": 40,
   "metadata": {},
   "outputs": [],
   "source": [
    "def showPairPlot(df):\n",
    "    sns.pairplot(df)\n",
    "    plt.show()"
   ]
  },
  {
   "cell_type": "code",
   "execution_count": 41,
   "metadata": {},
   "outputs": [],
   "source": [
    "from sklearn.preprocessing import StandardScaler\n",
    "from sklearn.decomposition import PCA\n",
    "\n",
    "#In general a good idea is to scale the data\n",
    "scaler = StandardScaler()\n",
    "scaler.fit(df2018)\n",
    "X=scaler.transform(df2018)    \n",
    "\n",
    "pca = PCA()\n",
    "x_new = pca.fit_transform(X)"
   ]
  },
  {
   "cell_type": "code",
   "execution_count": 42,
   "metadata": {},
   "outputs": [
    {
     "data": {
      "text/plain": [
       "array([[  3.71389386e+00,  -3.65701818e+00,   1.39439276e-01, ...,\n",
       "         -2.18843678e-16,  -4.52595301e-18,   3.03876564e-16],\n",
       "       [ -1.10121424e+00,  -1.80456820e-01,   4.60848675e-02, ...,\n",
       "          9.93362235e-17,  -1.34070057e-17,   6.59476043e-17],\n",
       "       [ -1.09983230e+00,  -1.82700650e-01,   4.64866931e-02, ...,\n",
       "          2.61806772e-16,  -1.38986708e-17,  -3.42942284e-17],\n",
       "       ..., \n",
       "       [ -1.09998807e+00,  -1.83045396e-01,   4.66348286e-02, ...,\n",
       "          5.79233779e-18,   2.05596671e-19,   3.55183167e-17],\n",
       "       [ -7.73295977e-01,   2.90813970e-01,  -1.89097393e-01, ...,\n",
       "          1.97416321e-17,   1.70619793e-19,   7.31633454e-17],\n",
       "       [ -1.01776254e+00,  -7.00075196e-02,   2.50339394e-02, ...,\n",
       "         -1.37478210e-17,  -3.23659475e-18,  -3.97283210e-18]])"
      ]
     },
     "execution_count": 42,
     "metadata": {},
     "output_type": "execute_result"
    }
   ],
   "source": [
    "x_new"
   ]
  },
  {
   "cell_type": "code",
   "execution_count": 43,
   "metadata": {},
   "outputs": [
    {
     "data": {
      "text/plain": [
       "array([  6.83605732e-02,   3.99745026e-02,   3.84599388e-02,\n",
       "         3.79119266e-02,   3.73493444e-02,   3.72564339e-02,\n",
       "         3.72258219e-02,   3.71903021e-02,   3.71464357e-02,\n",
       "         3.71343907e-02,   3.71173960e-02,   3.71065469e-02,\n",
       "         3.70498563e-02,   2.19261935e-02,   2.09503058e-02,\n",
       "         2.08175160e-02,   2.03277710e-02,   2.02929556e-02,\n",
       "         2.01568607e-02,   1.99026446e-02,   1.97286403e-02,\n",
       "         1.92890319e-02,   1.91062299e-02,   1.90544240e-02,\n",
       "         1.90057686e-02,   1.88057644e-02,   1.87342269e-02,\n",
       "         1.86662638e-02,   1.86309219e-02,   1.85794669e-02,\n",
       "         1.85709057e-02,   1.85400517e-02,   1.85155164e-02,\n",
       "         1.84902692e-02,   1.84454834e-02,   1.84005213e-02,\n",
       "         1.83166624e-02,   1.74621351e-02,   1.60559381e-31,\n",
       "         1.00672602e-31,   5.97244300e-32,   5.24017009e-32,\n",
       "         4.86810657e-32,   3.24518599e-32,   2.56758917e-32,\n",
       "         1.77767486e-32,   1.51844216e-32,   1.08178358e-32,\n",
       "         8.46125222e-33,   6.14043463e-33,   5.35926646e-33,\n",
       "         3.91537418e-33,   9.93142586e-34,   4.57100075e-34,\n",
       "         5.15469298e-35])"
      ]
     },
     "execution_count": 43,
     "metadata": {},
     "output_type": "execute_result"
    }
   ],
   "source": [
    "pca_variance = pca.explained_variance_ratio_\n",
    "pca_variance"
   ]
  },
  {
   "cell_type": "code",
   "execution_count": 46,
   "metadata": {},
   "outputs": [
    {
     "data": {
      "text/plain": [
       "0.99999999999999978"
      ]
     },
     "execution_count": 46,
     "metadata": {},
     "output_type": "execute_result"
    }
   ],
   "source": [
    "sum(pca_variance[0:38])"
   ]
  },
  {
   "cell_type": "code",
   "execution_count": 47,
   "metadata": {},
   "outputs": [],
   "source": [
    "pca = PCA(n_components=38)\n",
    "x_new = pca.fit_transform(X)"
   ]
  },
  {
   "cell_type": "code",
   "execution_count": 48,
   "metadata": {},
   "outputs": [
    {
     "data": {
      "text/plain": [
       "array([[ 3.71389386, -3.65701818,  0.13943928, ...,  0.25918414,\n",
       "         0.0781501 ,  0.31817955],\n",
       "       [-1.10121424, -0.18045682,  0.04608487, ...,  0.09667829,\n",
       "         0.26239739,  0.04401302],\n",
       "       [-1.0998323 , -0.18270065,  0.04648669, ..., -0.07052345,\n",
       "         0.17414491,  0.05159507],\n",
       "       ..., \n",
       "       [-1.09998807, -0.1830454 ,  0.04663483, ..., -0.07645676,\n",
       "         0.19690451,  0.04851608],\n",
       "       [-0.77329598,  0.29081397, -0.18909739, ..., -0.35808407,\n",
       "         0.38149431, -1.20844496],\n",
       "       [-1.01776254, -0.07000752,  0.02503394, ...,  0.08149291,\n",
       "         0.11141256,  0.29257801]])"
      ]
     },
     "execution_count": 48,
     "metadata": {},
     "output_type": "execute_result"
    }
   ],
   "source": [
    "x_new"
   ]
  },
  {
   "cell_type": "code",
   "execution_count": 49,
   "metadata": {},
   "outputs": [
    {
     "data": {
      "text/html": [
       "<div>\n",
       "<style>\n",
       "    .dataframe thead tr:only-child th {\n",
       "        text-align: right;\n",
       "    }\n",
       "\n",
       "    .dataframe thead th {\n",
       "        text-align: left;\n",
       "    }\n",
       "\n",
       "    .dataframe tbody tr th {\n",
       "        vertical-align: top;\n",
       "    }\n",
       "</style>\n",
       "<table border=\"1\" class=\"dataframe\">\n",
       "  <thead>\n",
       "    <tr style=\"text-align: right;\">\n",
       "      <th></th>\n",
       "      <th>0</th>\n",
       "      <th>1</th>\n",
       "      <th>2</th>\n",
       "      <th>3</th>\n",
       "      <th>4</th>\n",
       "      <th>5</th>\n",
       "      <th>6</th>\n",
       "      <th>7</th>\n",
       "      <th>8</th>\n",
       "      <th>9</th>\n",
       "      <th>...</th>\n",
       "      <th>28</th>\n",
       "      <th>29</th>\n",
       "      <th>30</th>\n",
       "      <th>31</th>\n",
       "      <th>32</th>\n",
       "      <th>33</th>\n",
       "      <th>34</th>\n",
       "      <th>35</th>\n",
       "      <th>36</th>\n",
       "      <th>37</th>\n",
       "    </tr>\n",
       "  </thead>\n",
       "  <tbody>\n",
       "    <tr>\n",
       "      <th>0</th>\n",
       "      <td>3.7139</td>\n",
       "      <td>-3.6570</td>\n",
       "      <td>0.1394</td>\n",
       "      <td>-0.2052</td>\n",
       "      <td>-0.3410</td>\n",
       "      <td>0.0646</td>\n",
       "      <td>0.0465</td>\n",
       "      <td>-0.0216</td>\n",
       "      <td>-0.0242</td>\n",
       "      <td>0.0328</td>\n",
       "      <td>...</td>\n",
       "      <td>-0.0648</td>\n",
       "      <td>0.0480</td>\n",
       "      <td>-0.0491</td>\n",
       "      <td>0.1359</td>\n",
       "      <td>-0.0933</td>\n",
       "      <td>0.2215</td>\n",
       "      <td>0.0470</td>\n",
       "      <td>0.2592</td>\n",
       "      <td>0.0782</td>\n",
       "      <td>0.3182</td>\n",
       "    </tr>\n",
       "    <tr>\n",
       "      <th>1</th>\n",
       "      <td>-1.1012</td>\n",
       "      <td>-0.1805</td>\n",
       "      <td>0.0461</td>\n",
       "      <td>0.0245</td>\n",
       "      <td>-0.0004</td>\n",
       "      <td>-0.0499</td>\n",
       "      <td>-0.0220</td>\n",
       "      <td>0.0090</td>\n",
       "      <td>0.0025</td>\n",
       "      <td>0.0065</td>\n",
       "      <td>...</td>\n",
       "      <td>-0.0102</td>\n",
       "      <td>-0.0586</td>\n",
       "      <td>-0.0182</td>\n",
       "      <td>0.0467</td>\n",
       "      <td>0.0112</td>\n",
       "      <td>0.1092</td>\n",
       "      <td>0.0275</td>\n",
       "      <td>0.0967</td>\n",
       "      <td>0.2624</td>\n",
       "      <td>0.0440</td>\n",
       "    </tr>\n",
       "    <tr>\n",
       "      <th>2</th>\n",
       "      <td>-1.0998</td>\n",
       "      <td>-0.1827</td>\n",
       "      <td>0.0465</td>\n",
       "      <td>0.0249</td>\n",
       "      <td>-0.0012</td>\n",
       "      <td>-0.0508</td>\n",
       "      <td>-0.0204</td>\n",
       "      <td>0.0102</td>\n",
       "      <td>0.0035</td>\n",
       "      <td>0.0029</td>\n",
       "      <td>...</td>\n",
       "      <td>-0.0080</td>\n",
       "      <td>-0.0648</td>\n",
       "      <td>-0.0052</td>\n",
       "      <td>0.0142</td>\n",
       "      <td>0.0098</td>\n",
       "      <td>0.0312</td>\n",
       "      <td>0.0536</td>\n",
       "      <td>-0.0705</td>\n",
       "      <td>0.1741</td>\n",
       "      <td>0.0516</td>\n",
       "    </tr>\n",
       "    <tr>\n",
       "      <th>3</th>\n",
       "      <td>-1.1886</td>\n",
       "      <td>-0.0439</td>\n",
       "      <td>0.0186</td>\n",
       "      <td>-0.0298</td>\n",
       "      <td>0.0186</td>\n",
       "      <td>-0.0387</td>\n",
       "      <td>0.0018</td>\n",
       "      <td>-0.0147</td>\n",
       "      <td>0.0197</td>\n",
       "      <td>0.0134</td>\n",
       "      <td>...</td>\n",
       "      <td>0.0087</td>\n",
       "      <td>-0.0124</td>\n",
       "      <td>-0.0172</td>\n",
       "      <td>-0.0669</td>\n",
       "      <td>-0.0316</td>\n",
       "      <td>-0.0848</td>\n",
       "      <td>0.0693</td>\n",
       "      <td>-0.1614</td>\n",
       "      <td>-0.1880</td>\n",
       "      <td>0.2499</td>\n",
       "    </tr>\n",
       "    <tr>\n",
       "      <th>4</th>\n",
       "      <td>-1.1010</td>\n",
       "      <td>-0.1812</td>\n",
       "      <td>0.0462</td>\n",
       "      <td>0.0245</td>\n",
       "      <td>-0.0011</td>\n",
       "      <td>-0.0501</td>\n",
       "      <td>-0.0216</td>\n",
       "      <td>0.0095</td>\n",
       "      <td>0.0027</td>\n",
       "      <td>0.0053</td>\n",
       "      <td>...</td>\n",
       "      <td>-0.0096</td>\n",
       "      <td>-0.0623</td>\n",
       "      <td>-0.0133</td>\n",
       "      <td>0.0369</td>\n",
       "      <td>0.0116</td>\n",
       "      <td>0.0840</td>\n",
       "      <td>0.0338</td>\n",
       "      <td>0.0464</td>\n",
       "      <td>0.2502</td>\n",
       "      <td>0.0570</td>\n",
       "    </tr>\n",
       "  </tbody>\n",
       "</table>\n",
       "<p>5 rows × 38 columns</p>\n",
       "</div>"
      ],
      "text/plain": [
       "       0       1       2       3       4       5       6       7       8   \\\n",
       "0  3.7139 -3.6570  0.1394 -0.2052 -0.3410  0.0646  0.0465 -0.0216 -0.0242   \n",
       "1 -1.1012 -0.1805  0.0461  0.0245 -0.0004 -0.0499 -0.0220  0.0090  0.0025   \n",
       "2 -1.0998 -0.1827  0.0465  0.0249 -0.0012 -0.0508 -0.0204  0.0102  0.0035   \n",
       "3 -1.1886 -0.0439  0.0186 -0.0298  0.0186 -0.0387  0.0018 -0.0147  0.0197   \n",
       "4 -1.1010 -0.1812  0.0462  0.0245 -0.0011 -0.0501 -0.0216  0.0095  0.0027   \n",
       "\n",
       "       9    ...        28      29      30      31      32      33      34  \\\n",
       "0  0.0328   ...   -0.0648  0.0480 -0.0491  0.1359 -0.0933  0.2215  0.0470   \n",
       "1  0.0065   ...   -0.0102 -0.0586 -0.0182  0.0467  0.0112  0.1092  0.0275   \n",
       "2  0.0029   ...   -0.0080 -0.0648 -0.0052  0.0142  0.0098  0.0312  0.0536   \n",
       "3  0.0134   ...    0.0087 -0.0124 -0.0172 -0.0669 -0.0316 -0.0848  0.0693   \n",
       "4  0.0053   ...   -0.0096 -0.0623 -0.0133  0.0369  0.0116  0.0840  0.0338   \n",
       "\n",
       "       35      36      37  \n",
       "0  0.2592  0.0782  0.3182  \n",
       "1  0.0967  0.2624  0.0440  \n",
       "2 -0.0705  0.1741  0.0516  \n",
       "3 -0.1614 -0.1880  0.2499  \n",
       "4  0.0464  0.2502  0.0570  \n",
       "\n",
       "[5 rows x 38 columns]"
      ]
     },
     "execution_count": 49,
     "metadata": {},
     "output_type": "execute_result"
    }
   ],
   "source": [
    "nDF2018 = pd.DataFrame(np.round(x_new, 4))\n",
    "nDF2018.head()"
   ]
  },
  {
   "cell_type": "code",
   "execution_count": 50,
   "metadata": {},
   "outputs": [],
   "source": [
    "def clf_score(df, y_target, clf):\n",
    "    X = np.array(df)\n",
    "    y = y_target\n",
    "\n",
    "    X_train, X_test, y_train, y_test = train_test_split(X, y, test_size=0.2, random_state=89, shuffle=True)\n",
    "\n",
    "    print \"Starting...\"\n",
    "\n",
    "    clf.fit(X_train, y_train)\n",
    "\n",
    "    print \"Finished!\"\n",
    "\n",
    "    return clf.score(X_test, y_test)"
   ]
  },
  {
   "cell_type": "code",
   "execution_count": 51,
   "metadata": {},
   "outputs": [
    {
     "name": "stdout",
     "output_type": "stream",
     "text": [
      "Starting...\n",
      "Finished!\n"
     ]
    },
    {
     "data": {
      "text/plain": [
       "0.74041175047706076"
      ]
     },
     "execution_count": 51,
     "metadata": {},
     "output_type": "execute_result"
    }
   ],
   "source": [
    "score = clf_score(df2018, y_target, sk.LogisticRegression())\n",
    "score"
   ]
  },
  {
   "cell_type": "code",
   "execution_count": 52,
   "metadata": {},
   "outputs": [
    {
     "name": "stdout",
     "output_type": "stream",
     "text": [
      "Starting...\n",
      "Finished!\n"
     ]
    },
    {
     "data": {
      "text/plain": [
       "0.56063375171338725"
      ]
     },
     "execution_count": 52,
     "metadata": {},
     "output_type": "execute_result"
    }
   ],
   "source": [
    "score_norm = clf_score(df2018_norm, y_target, sk.LogisticRegression())\n",
    "score_norm"
   ]
  },
  {
   "cell_type": "code",
   "execution_count": 53,
   "metadata": {},
   "outputs": [
    {
     "name": "stdout",
     "output_type": "stream",
     "text": [
      "Starting...\n",
      "Finished!\n"
     ]
    },
    {
     "data": {
      "text/plain": [
       "0.70943639637702582"
      ]
     },
     "execution_count": 53,
     "metadata": {},
     "output_type": "execute_result"
    }
   ],
   "source": [
    "score_pca = clf_score(nDF2018, y_target, sk.LogisticRegression())\n",
    "score_pca"
   ]
  },
  {
   "cell_type": "code",
   "execution_count": 54,
   "metadata": {},
   "outputs": [
    {
     "name": "stdout",
     "output_type": "stream",
     "text": [
      "Starting...\n",
      "Finished!\n"
     ]
    },
    {
     "data": {
      "text/plain": [
       "0.82020856290482969"
      ]
     },
     "execution_count": 54,
     "metadata": {},
     "output_type": "execute_result"
    }
   ],
   "source": [
    "from sklearn.neural_network import MLPClassifier\n",
    "\n",
    "mlp_score = clf_score(df2018, y_target, MLPClassifier(alpha=1))\n",
    "mlp_score"
   ]
  },
  {
   "cell_type": "code",
   "execution_count": 55,
   "metadata": {},
   "outputs": [
    {
     "name": "stdout",
     "output_type": "stream",
     "text": [
      "Starting...\n",
      "Finished!\n"
     ]
    },
    {
     "data": {
      "text/plain": [
       "0.55633348563442364"
      ]
     },
     "execution_count": 55,
     "metadata": {},
     "output_type": "execute_result"
    }
   ],
   "source": [
    "mlp_score_norm = clf_score(df2018_norm, y_target, MLPClassifier(alpha=1))\n",
    "mlp_score_norm"
   ]
  },
  {
   "cell_type": "code",
   "execution_count": 56,
   "metadata": {},
   "outputs": [
    {
     "name": "stdout",
     "output_type": "stream",
     "text": [
      "Starting...\n",
      "Finished!\n"
     ]
    },
    {
     "data": {
      "text/plain": [
       "0.69089149891149515"
      ]
     },
     "execution_count": 56,
     "metadata": {},
     "output_type": "execute_result"
    }
   ],
   "source": [
    "mlp_score_pca = clf_score(nDF2018, y_target, MLPClassifier(alpha=1))\n",
    "mlp_score_pca"
   ]
  },
  {
   "cell_type": "code",
   "execution_count": 62,
   "metadata": {},
   "outputs": [],
   "source": [
    "# from sklearn.metrics import r2_score\n",
    "from sklearn.metrics import f1_score\n",
    "\n",
    "def performance_metric(y_true, y_predict):\n",
    "    return f1_score(y_true, y_predict, average='micro')  \n",
    "# def performance_metric(y_true, y_predict):\n",
    "#     return r2_score(y_true, y_predict)"
   ]
  },
  {
   "cell_type": "code",
   "execution_count": 63,
   "metadata": {},
   "outputs": [],
   "source": [
    "from sklearn.model_selection import GridSearchCV\n",
    "from sklearn.metrics import make_scorer\n",
    "\n",
    "def gridSearch(df, target, clf, parameters, scoring_func):\n",
    "    sc_fnc = make_scorer(scoring_func)\n",
    "# Maybe include cv parameter (cross-validation)\n",
    "    gs = GridSearchCV(clf, parameters, scoring=sc_fnc)\n",
    "    gs.fit(df, target)\n",
    "    return gs.best_estimator_"
   ]
  },
  {
   "cell_type": "code",
   "execution_count": 64,
   "metadata": {},
   "outputs": [
    {
     "data": {
      "text/plain": [
       "0      failed\n",
       "1      failed\n",
       "2      failed\n",
       "3      failed\n",
       "4    canceled\n",
       "Name: state, dtype: object"
      ]
     },
     "execution_count": 64,
     "metadata": {},
     "output_type": "execute_result"
    }
   ],
   "source": [
    "y_target.head()"
   ]
  },
  {
   "cell_type": "code",
   "execution_count": 65,
   "metadata": {},
   "outputs": [
    {
     "data": {
      "text/plain": [
       "0    0\n",
       "1    0\n",
       "2    0\n",
       "3    0\n",
       "4    1\n",
       "Name: targ, dtype: int64"
      ]
     },
     "execution_count": 65,
     "metadata": {},
     "output_type": "execute_result"
    }
   ],
   "source": [
    "df = pd.DataFrame(data = {'targ': y_target})\n",
    "df = df.apply(lambda x: pd.factorize(x)[0])\n",
    "y_targ = df['targ']\n",
    "y_targ.head()"
   ]
  },
  {
   "cell_type": "code",
   "execution_count": 66,
   "metadata": {},
   "outputs": [
    {
     "name": "stderr",
     "output_type": "stream",
     "text": [
      "/Users/Vinicius/anaconda2/lib/python2.7/site-packages/sklearn/utils/optimize.py:195: UserWarning: Line Search failed\n",
      "  warnings.warn('Line Search failed')\n",
      "/Users/Vinicius/anaconda2/lib/python2.7/site-packages/sklearn/linear_model/sag.py:326: ConvergenceWarning: The max_iter was reached which means the coef_ did not converge\n",
      "  \"the coef_ did not converge\", ConvergenceWarning)\n"
     ]
    }
   ],
   "source": [
    "param_grid = {'C': [0.01, 0.1, 1, 10, 100], 'solver': ['newton-cg', 'lbfgs', 'sag'] }\n",
    "model = gridSearch(df2018, y_targ, sk.LogisticRegression(), param_grid, performance_metric)"
   ]
  },
  {
   "cell_type": "code",
   "execution_count": 67,
   "metadata": {},
   "outputs": [
    {
     "data": {
      "text/plain": [
       "LogisticRegression(C=0.01, class_weight=None, dual=False, fit_intercept=True,\n",
       "          intercept_scaling=1, max_iter=100, multi_class='ovr', n_jobs=1,\n",
       "          penalty='l2', random_state=None, solver='sag', tol=0.0001,\n",
       "          verbose=0, warm_start=False)"
      ]
     },
     "execution_count": 67,
     "metadata": {},
     "output_type": "execute_result"
    }
   ],
   "source": [
    "model"
   ]
  },
  {
   "cell_type": "code",
   "execution_count": 68,
   "metadata": {},
   "outputs": [
    {
     "name": "stdout",
     "output_type": "stream",
     "text": [
      "Starting...\n",
      "Finished!\n"
     ]
    },
    {
     "data": {
      "text/plain": [
       "0.82344720079554923"
      ]
     },
     "execution_count": 68,
     "metadata": {},
     "output_type": "execute_result"
    }
   ],
   "source": [
    "model_score = clf_score(df2018, y_targ, model)\n",
    "model_score"
   ]
  },
  {
   "cell_type": "code",
   "execution_count": 69,
   "metadata": {},
   "outputs": [
    {
     "name": "stderr",
     "output_type": "stream",
     "text": [
      "/Users/Vinicius/anaconda2/lib/python2.7/site-packages/sklearn/neural_network/multilayer_perceptron.py:564: ConvergenceWarning: Stochastic Optimizer: Maximum iterations (200) reached and the optimization hasn't converged yet.\n",
      "  % self.max_iter, ConvergenceWarning)\n"
     ]
    }
   ],
   "source": [
    "mlp_param_grid = {'solver': ['sgd', 'adam'], 'alpha': [0.0001, 0.001, 0.01, 1], 'learning_rate': ['constant', 'invscaling', 'adaptive'] }\n",
    "mlp_model = gridSearch(df2018, y_targ, MLPClassifier(), mlp_param_grid, performance_metric)"
   ]
  },
  {
   "cell_type": "code",
   "execution_count": 70,
   "metadata": {},
   "outputs": [
    {
     "data": {
      "text/plain": [
       "MLPClassifier(activation='relu', alpha=0.0001, batch_size='auto', beta_1=0.9,\n",
       "       beta_2=0.999, early_stopping=False, epsilon=1e-08,\n",
       "       hidden_layer_sizes=(100,), learning_rate='constant',\n",
       "       learning_rate_init=0.001, max_iter=200, momentum=0.9,\n",
       "       nesterovs_momentum=True, power_t=0.5, random_state=None,\n",
       "       shuffle=True, solver='adam', tol=0.0001, validation_fraction=0.1,\n",
       "       verbose=False, warm_start=False)"
      ]
     },
     "execution_count": 70,
     "metadata": {},
     "output_type": "execute_result"
    }
   ],
   "source": [
    "mlp_model"
   ]
  },
  {
   "cell_type": "code",
   "execution_count": 71,
   "metadata": {},
   "outputs": [
    {
     "name": "stdout",
     "output_type": "stream",
     "text": [
      "Starting...\n",
      "Finished!\n"
     ]
    },
    {
     "data": {
      "text/plain": [
       "0.5687908189319214"
      ]
     },
     "execution_count": 71,
     "metadata": {},
     "output_type": "execute_result"
    }
   ],
   "source": [
    "mlp_model_score = clf_score(df2018, y_targ, mlp_model)\n",
    "mlp_model_score"
   ]
  },
  {
   "cell_type": "code",
   "execution_count": 72,
   "metadata": {},
   "outputs": [],
   "source": [
    "X = np.array(df)\n",
    "y = y_targ\n",
    "X_train, X_test, y_train, y_test = train_test_split(X, y, test_size=0.2, random_state=89, shuffle=True)"
   ]
  },
  {
   "cell_type": "code",
   "execution_count": 73,
   "metadata": {},
   "outputs": [
    {
     "data": {
      "text/plain": [
       "3"
      ]
     },
     "execution_count": 73,
     "metadata": {},
     "output_type": "execute_result"
    }
   ],
   "source": [
    "max(y_targ)"
   ]
  },
  {
   "cell_type": "code",
   "execution_count": 75,
   "metadata": {},
   "outputs": [
    {
     "ename": "OSError",
     "evalue": "dlopen(/Users/Vinicius/anaconda2/lib/python2.7/site-packages/lightgbm/lib_lightgbm.so, 6): Library not loaded: /usr/local/opt/gcc/lib/gcc/8/libgomp.1.dylib\n  Referenced from: /Users/Vinicius/anaconda2/lib/python2.7/site-packages/lightgbm/lib_lightgbm.so\n  Reason: image not found",
     "output_type": "error",
     "traceback": [
      "\u001b[0;31m---------------------------------------------------------------------------\u001b[0m",
      "\u001b[0;31mOSError\u001b[0m                                   Traceback (most recent call last)",
      "\u001b[0;32m<ipython-input-75-af32cf8dbd0b>\u001b[0m in \u001b[0;36m<module>\u001b[0;34m()\u001b[0m\n\u001b[0;32m----> 1\u001b[0;31m \u001b[0;32mimport\u001b[0m \u001b[0mlightgbm\u001b[0m \u001b[0;32mas\u001b[0m \u001b[0mlgb\u001b[0m\u001b[0;34m\u001b[0m\u001b[0m\n\u001b[0m\u001b[1;32m      2\u001b[0m \u001b[0mlightD\u001b[0m \u001b[0;34m=\u001b[0m \u001b[0mlgb\u001b[0m\u001b[0;34m.\u001b[0m\u001b[0mDataset\u001b[0m\u001b[0;34m(\u001b[0m\u001b[0mX_train\u001b[0m\u001b[0;34m,\u001b[0m \u001b[0mlabel\u001b[0m\u001b[0;34m=\u001b[0m\u001b[0my_train\u001b[0m\u001b[0;34m)\u001b[0m\u001b[0;34m\u001b[0m\u001b[0m\n\u001b[1;32m      3\u001b[0m \u001b[0mparams\u001b[0m \u001b[0;34m=\u001b[0m \u001b[0;34m{\u001b[0m\u001b[0;34m}\u001b[0m\u001b[0;34m\u001b[0m\u001b[0m\n\u001b[1;32m      4\u001b[0m \u001b[0mparams\u001b[0m\u001b[0;34m[\u001b[0m\u001b[0;34m'objective'\u001b[0m\u001b[0;34m]\u001b[0m \u001b[0;34m=\u001b[0m \u001b[0;34m'multiclass'\u001b[0m\u001b[0;34m\u001b[0m\u001b[0m\n\u001b[1;32m      5\u001b[0m \u001b[0mparams\u001b[0m\u001b[0;34m[\u001b[0m\u001b[0;34m'num_classes'\u001b[0m\u001b[0;34m]\u001b[0m \u001b[0;34m=\u001b[0m \u001b[0;36m5\u001b[0m\u001b[0;34m\u001b[0m\u001b[0m\n",
      "\u001b[0;32m/Users/Vinicius/anaconda2/lib/python2.7/site-packages/lightgbm/__init__.py\u001b[0m in \u001b[0;36m<module>\u001b[0;34m()\u001b[0m\n\u001b[1;32m      6\u001b[0m \u001b[0;32mfrom\u001b[0m \u001b[0m__future__\u001b[0m \u001b[0;32mimport\u001b[0m \u001b[0mabsolute_import\u001b[0m\u001b[0;34m\u001b[0m\u001b[0m\n\u001b[1;32m      7\u001b[0m \u001b[0;34m\u001b[0m\u001b[0m\n\u001b[0;32m----> 8\u001b[0;31m \u001b[0;32mfrom\u001b[0m \u001b[0;34m.\u001b[0m\u001b[0mbasic\u001b[0m \u001b[0;32mimport\u001b[0m \u001b[0mBooster\u001b[0m\u001b[0;34m,\u001b[0m \u001b[0mDataset\u001b[0m\u001b[0;34m\u001b[0m\u001b[0m\n\u001b[0m\u001b[1;32m      9\u001b[0m from .callback import (early_stopping, print_evaluation, record_evaluation,\n\u001b[1;32m     10\u001b[0m                        reset_parameter)\n",
      "\u001b[0;32m/Users/Vinicius/anaconda2/lib/python2.7/site-packages/lightgbm/basic.py\u001b[0m in \u001b[0;36m<module>\u001b[0;34m()\u001b[0m\n\u001b[1;32m     31\u001b[0m \u001b[0;34m\u001b[0m\u001b[0m\n\u001b[1;32m     32\u001b[0m \u001b[0;34m\u001b[0m\u001b[0m\n\u001b[0;32m---> 33\u001b[0;31m \u001b[0m_LIB\u001b[0m \u001b[0;34m=\u001b[0m \u001b[0m_load_lib\u001b[0m\u001b[0;34m(\u001b[0m\u001b[0;34m)\u001b[0m\u001b[0;34m\u001b[0m\u001b[0m\n\u001b[0m\u001b[1;32m     34\u001b[0m \u001b[0;34m\u001b[0m\u001b[0m\n\u001b[1;32m     35\u001b[0m \u001b[0;34m\u001b[0m\u001b[0m\n",
      "\u001b[0;32m/Users/Vinicius/anaconda2/lib/python2.7/site-packages/lightgbm/basic.py\u001b[0m in \u001b[0;36m_load_lib\u001b[0;34m()\u001b[0m\n\u001b[1;32m     26\u001b[0m     \u001b[0;32mif\u001b[0m \u001b[0mlen\u001b[0m\u001b[0;34m(\u001b[0m\u001b[0mlib_path\u001b[0m\u001b[0;34m)\u001b[0m \u001b[0;34m==\u001b[0m \u001b[0;36m0\u001b[0m\u001b[0;34m:\u001b[0m\u001b[0;34m\u001b[0m\u001b[0m\n\u001b[1;32m     27\u001b[0m         \u001b[0;32mreturn\u001b[0m \u001b[0mNone\u001b[0m\u001b[0;34m\u001b[0m\u001b[0m\n\u001b[0;32m---> 28\u001b[0;31m     \u001b[0mlib\u001b[0m \u001b[0;34m=\u001b[0m \u001b[0mctypes\u001b[0m\u001b[0;34m.\u001b[0m\u001b[0mcdll\u001b[0m\u001b[0;34m.\u001b[0m\u001b[0mLoadLibrary\u001b[0m\u001b[0;34m(\u001b[0m\u001b[0mlib_path\u001b[0m\u001b[0;34m[\u001b[0m\u001b[0;36m0\u001b[0m\u001b[0;34m]\u001b[0m\u001b[0;34m)\u001b[0m\u001b[0;34m\u001b[0m\u001b[0m\n\u001b[0m\u001b[1;32m     29\u001b[0m     \u001b[0mlib\u001b[0m\u001b[0;34m.\u001b[0m\u001b[0mLGBM_GetLastError\u001b[0m\u001b[0;34m.\u001b[0m\u001b[0mrestype\u001b[0m \u001b[0;34m=\u001b[0m \u001b[0mctypes\u001b[0m\u001b[0;34m.\u001b[0m\u001b[0mc_char_p\u001b[0m\u001b[0;34m\u001b[0m\u001b[0m\n\u001b[1;32m     30\u001b[0m     \u001b[0;32mreturn\u001b[0m \u001b[0mlib\u001b[0m\u001b[0;34m\u001b[0m\u001b[0m\n",
      "\u001b[0;32m/Users/Vinicius/anaconda2/lib/python2.7/ctypes/__init__.pyc\u001b[0m in \u001b[0;36mLoadLibrary\u001b[0;34m(self, name)\u001b[0m\n\u001b[1;32m    442\u001b[0m \u001b[0;34m\u001b[0m\u001b[0m\n\u001b[1;32m    443\u001b[0m     \u001b[0;32mdef\u001b[0m \u001b[0mLoadLibrary\u001b[0m\u001b[0;34m(\u001b[0m\u001b[0mself\u001b[0m\u001b[0;34m,\u001b[0m \u001b[0mname\u001b[0m\u001b[0;34m)\u001b[0m\u001b[0;34m:\u001b[0m\u001b[0;34m\u001b[0m\u001b[0m\n\u001b[0;32m--> 444\u001b[0;31m         \u001b[0;32mreturn\u001b[0m \u001b[0mself\u001b[0m\u001b[0;34m.\u001b[0m\u001b[0m_dlltype\u001b[0m\u001b[0;34m(\u001b[0m\u001b[0mname\u001b[0m\u001b[0;34m)\u001b[0m\u001b[0;34m\u001b[0m\u001b[0m\n\u001b[0m\u001b[1;32m    445\u001b[0m \u001b[0;34m\u001b[0m\u001b[0m\n\u001b[1;32m    446\u001b[0m \u001b[0mcdll\u001b[0m \u001b[0;34m=\u001b[0m \u001b[0mLibraryLoader\u001b[0m\u001b[0;34m(\u001b[0m\u001b[0mCDLL\u001b[0m\u001b[0;34m)\u001b[0m\u001b[0;34m\u001b[0m\u001b[0m\n",
      "\u001b[0;32m/Users/Vinicius/anaconda2/lib/python2.7/ctypes/__init__.pyc\u001b[0m in \u001b[0;36m__init__\u001b[0;34m(self, name, mode, handle, use_errno, use_last_error)\u001b[0m\n\u001b[1;32m    364\u001b[0m \u001b[0;34m\u001b[0m\u001b[0m\n\u001b[1;32m    365\u001b[0m         \u001b[0;32mif\u001b[0m \u001b[0mhandle\u001b[0m \u001b[0;32mis\u001b[0m \u001b[0mNone\u001b[0m\u001b[0;34m:\u001b[0m\u001b[0;34m\u001b[0m\u001b[0m\n\u001b[0;32m--> 366\u001b[0;31m             \u001b[0mself\u001b[0m\u001b[0;34m.\u001b[0m\u001b[0m_handle\u001b[0m \u001b[0;34m=\u001b[0m \u001b[0m_dlopen\u001b[0m\u001b[0;34m(\u001b[0m\u001b[0mself\u001b[0m\u001b[0;34m.\u001b[0m\u001b[0m_name\u001b[0m\u001b[0;34m,\u001b[0m \u001b[0mmode\u001b[0m\u001b[0;34m)\u001b[0m\u001b[0;34m\u001b[0m\u001b[0m\n\u001b[0m\u001b[1;32m    367\u001b[0m         \u001b[0;32melse\u001b[0m\u001b[0;34m:\u001b[0m\u001b[0;34m\u001b[0m\u001b[0m\n\u001b[1;32m    368\u001b[0m             \u001b[0mself\u001b[0m\u001b[0;34m.\u001b[0m\u001b[0m_handle\u001b[0m \u001b[0;34m=\u001b[0m \u001b[0mhandle\u001b[0m\u001b[0;34m\u001b[0m\u001b[0m\n",
      "\u001b[0;31mOSError\u001b[0m: dlopen(/Users/Vinicius/anaconda2/lib/python2.7/site-packages/lightgbm/lib_lightgbm.so, 6): Library not loaded: /usr/local/opt/gcc/lib/gcc/8/libgomp.1.dylib\n  Referenced from: /Users/Vinicius/anaconda2/lib/python2.7/site-packages/lightgbm/lib_lightgbm.so\n  Reason: image not found"
     ]
    }
   ],
   "source": [
    "import lightgbm as lgb\n",
    "lightD = lgb.Dataset(X_train, label=y_train)\n",
    "params = {}\n",
    "params['objective'] = 'multiclass'\n",
    "params['num_classes'] = 5\n",
    "clf = lgb.train(params, lightD, 100)"
   ]
  },
  {
   "cell_type": "code",
   "execution_count": null,
   "metadata": {},
   "outputs": [],
   "source": [
    "y_pred = clf.predict(X_test)\n",
    "y_pred"
   ]
  },
  {
   "cell_type": "code",
   "execution_count": null,
   "metadata": {},
   "outputs": [],
   "source": [
    "from lightgbm import LGBMClassifier\n",
    "\n",
    "clf_lgbm = LGBMClassifier(\n",
    "        n_estimators=300,\n",
    "        num_leaves=15,\n",
    "        colsample_bytree=.8,\n",
    "        subsample=.8,\n",
    "        max_depth=7,\n",
    "        reg_alpha=.1,\n",
    "        reg_lambda=.1,\n",
    "        min_split_gain=.01\n",
    "    )\n",
    "\n",
    "clf_lgbm.fit(X_train, \n",
    "        y_train,\n",
    "        eval_set= [(X_train, y_train), (X_test, y_test)], \n",
    "        eval_metric='auc', \n",
    "        verbose=0, \n",
    "        early_stopping_rounds=30\n",
    "       )\n",
    "\n",
    "acc_clf_lgbm = clf_lgbm.score(X_test, y_test)\n",
    "acc_clf_lgbm"
   ]
  },
  {
   "cell_type": "code",
   "execution_count": 76,
   "metadata": {},
   "outputs": [
    {
     "name": "stdout",
     "output_type": "stream",
     "text": [
      "Starting...\n",
      "Finished!\n"
     ]
    },
    {
     "data": {
      "text/plain": [
       "0.7388125890289462"
      ]
     },
     "execution_count": 76,
     "metadata": {},
     "output_type": "execute_result"
    }
   ],
   "source": [
    "from sklearn.tree import DecisionTreeClassifier\n",
    "dTree = DecisionTreeClassifier(random_state=37)\n",
    "dTree_score = clf_score(df2018, y_targ, dTree)\n",
    "dTree_score"
   ]
  },
  {
   "cell_type": "code",
   "execution_count": 77,
   "metadata": {},
   "outputs": [
    {
     "data": {
      "text/plain": [
       "DecisionTreeClassifier(class_weight=None, criterion='gini', max_depth=None,\n",
       "            max_features=None, max_leaf_nodes=None,\n",
       "            min_impurity_decrease=0.0, min_impurity_split=None,\n",
       "            min_samples_leaf=1, min_samples_split=2,\n",
       "            min_weight_fraction_leaf=0.0, presort=False, random_state=37,\n",
       "            splitter='best')"
      ]
     },
     "execution_count": 77,
     "metadata": {},
     "output_type": "execute_result"
    }
   ],
   "source": [
    "dTree"
   ]
  },
  {
   "cell_type": "code",
   "execution_count": 84,
   "metadata": {},
   "outputs": [
    {
     "data": {
      "text/plain": [
       "DecisionTreeClassifier(class_weight=None, criterion='gini', max_depth=9,\n",
       "            max_features=None, max_leaf_nodes=None,\n",
       "            min_impurity_decrease=0.0, min_impurity_split=None,\n",
       "            min_samples_leaf=1, min_samples_split=2,\n",
       "            min_weight_fraction_leaf=0.0, presort=False, random_state=37,\n",
       "            splitter='best')"
      ]
     },
     "execution_count": 84,
     "metadata": {},
     "output_type": "execute_result"
    }
   ],
   "source": [
    "tree_params = { 'criterion' : ['gini', 'entropy'], 'max_depth' : [7, 8, 9, 10], 'class_weight' : [None, 'balanced']}\n",
    "dTree_model = gridSearch(df2018, y_targ, dTree, tree_params, performance_metric)\n",
    "dTree_model"
   ]
  },
  {
   "cell_type": "code",
   "execution_count": 85,
   "metadata": {},
   "outputs": [
    {
     "name": "stdout",
     "output_type": "stream",
     "text": [
      "Starting...\n",
      "Finished!\n"
     ]
    },
    {
     "data": {
      "text/plain": [
       "0.8262826887413659"
      ]
     },
     "execution_count": 85,
     "metadata": {},
     "output_type": "execute_result"
    }
   ],
   "source": [
    "dTree_score_2 = clf_score(df2018, y_targ, dTree_model)\n",
    "dTree_score_2"
   ]
  },
  {
   "cell_type": "code",
   "execution_count": null,
   "metadata": {},
   "outputs": [],
   "source": []
  }
 ],
 "metadata": {
  "kernelspec": {
   "display_name": "Python 2",
   "language": "python",
   "name": "python2"
  },
  "language_info": {
   "codemirror_mode": {
    "name": "ipython",
    "version": 2
   },
   "file_extension": ".py",
   "mimetype": "text/x-python",
   "name": "python",
   "nbconvert_exporter": "python",
   "pygments_lexer": "ipython2",
   "version": "2.7.14"
  }
 },
 "nbformat": 4,
 "nbformat_minor": 2
}
